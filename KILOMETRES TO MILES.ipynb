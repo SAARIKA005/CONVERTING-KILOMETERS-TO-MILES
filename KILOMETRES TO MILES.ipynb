{
  "nbformat": 4,
  "nbformat_minor": 0,
  "metadata": {
    "colab": {
      "name": "Untitled38.ipynb",
      "provenance": [],
      "collapsed_sections": []
    },
    "kernelspec": {
      "name": "python3",
      "display_name": "Python 3"
    },
    "language_info": {
      "name": "python"
    }
  },
  "cells": [
    {
      "cell_type": "code",
      "source": [
        "def kilometre_1(km):  \n",
        "    conversion_ratio_1= 0.621371  \n",
        "    miles_1 = km * conversion_ratio_1  \n",
        "    print (\"The speed value of car in Miles: \", miles_1)  \n",
        "km = float (input (\"Please enter the speed of car in Kilometre as a unit: \"))  \n",
        "kilometre_1(km)  "
      ],
      "metadata": {
        "id": "SNPrODg3Uu6l"
      },
      "execution_count": null,
      "outputs": []
    }
  ]
}